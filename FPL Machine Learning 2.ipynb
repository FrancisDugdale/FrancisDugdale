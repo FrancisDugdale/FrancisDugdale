{
 "cells": [
  {
   "cell_type": "markdown",
   "metadata": {},
   "source": [
    "# FPL Machine Learning 2"
   ]
  },
  {
   "cell_type": "code",
   "execution_count": 2,
   "metadata": {},
   "outputs": [],
   "source": [
    "#This time I am going to try to build a model which uses the same data as before, but this time to make an active prediction of the points per minute score.\n"
   ]
  },
  {
   "cell_type": "code",
   "execution_count": 70,
   "metadata": {},
   "outputs": [],
   "source": [
    "#First lets import our dependancies and clean the data a little.\n",
    "import pandas as pd\n",
    "import numpy as np\n",
    "import io\n",
    "import requests\n",
    "from matplotlib import pyplot as plt\n",
    "url = 'https://raw.githubusercontent.com/vaastav/Fantasy-Premier-League/master/data/2019-20/cleaned_players.csv'\n",
    "read_data = requests.get(url).content\n",
    "address = pd.read_csv(io.StringIO(read_data.decode('utf-8')))"
   ]
  },
  {
   "cell_type": "code",
   "execution_count": 71,
   "metadata": {},
   "outputs": [
    {
     "data": {
      "text/html": [
       "<div>\n",
       "<style scoped>\n",
       "    .dataframe tbody tr th:only-of-type {\n",
       "        vertical-align: middle;\n",
       "    }\n",
       "\n",
       "    .dataframe tbody tr th {\n",
       "        vertical-align: top;\n",
       "    }\n",
       "\n",
       "    .dataframe thead th {\n",
       "        text-align: right;\n",
       "    }\n",
       "</style>\n",
       "<table border=\"1\" class=\"dataframe\">\n",
       "  <thead>\n",
       "    <tr style=\"text-align: right;\">\n",
       "      <th></th>\n",
       "      <th>first_name</th>\n",
       "      <th>second_name</th>\n",
       "      <th>goals_scored</th>\n",
       "      <th>assists</th>\n",
       "      <th>total_points</th>\n",
       "      <th>minutes</th>\n",
       "      <th>goals_conceded</th>\n",
       "      <th>creativity</th>\n",
       "      <th>influence</th>\n",
       "      <th>threat</th>\n",
       "      <th>bonus</th>\n",
       "      <th>bps</th>\n",
       "      <th>ict_index</th>\n",
       "      <th>clean_sheets</th>\n",
       "      <th>red_cards</th>\n",
       "      <th>yellow_cards</th>\n",
       "      <th>selected_by_percent</th>\n",
       "      <th>now_cost</th>\n",
       "    </tr>\n",
       "  </thead>\n",
       "  <tbody>\n",
       "    <tr>\n",
       "      <td>0</td>\n",
       "      <td>Shkodran</td>\n",
       "      <td>Mustafi</td>\n",
       "      <td>0</td>\n",
       "      <td>2</td>\n",
       "      <td>19</td>\n",
       "      <td>440</td>\n",
       "      <td>7</td>\n",
       "      <td>13.2</td>\n",
       "      <td>128.8</td>\n",
       "      <td>79.0</td>\n",
       "      <td>1</td>\n",
       "      <td>101</td>\n",
       "      <td>22.2</td>\n",
       "      <td>1</td>\n",
       "      <td>0</td>\n",
       "      <td>0</td>\n",
       "      <td>0.3</td>\n",
       "      <td>51</td>\n",
       "    </tr>\n",
       "    <tr>\n",
       "      <td>1</td>\n",
       "      <td>Héctor</td>\n",
       "      <td>Bellerín</td>\n",
       "      <td>1</td>\n",
       "      <td>0</td>\n",
       "      <td>17</td>\n",
       "      <td>442</td>\n",
       "      <td>8</td>\n",
       "      <td>28.1</td>\n",
       "      <td>103.8</td>\n",
       "      <td>28.0</td>\n",
       "      <td>3</td>\n",
       "      <td>81</td>\n",
       "      <td>16.1</td>\n",
       "      <td>1</td>\n",
       "      <td>0</td>\n",
       "      <td>2</td>\n",
       "      <td>0.8</td>\n",
       "      <td>54</td>\n",
       "    </tr>\n",
       "    <tr>\n",
       "      <td>2</td>\n",
       "      <td>Sead</td>\n",
       "      <td>Kolasinac</td>\n",
       "      <td>0</td>\n",
       "      <td>2</td>\n",
       "      <td>34</td>\n",
       "      <td>1086</td>\n",
       "      <td>18</td>\n",
       "      <td>156.3</td>\n",
       "      <td>190.0</td>\n",
       "      <td>67.0</td>\n",
       "      <td>1</td>\n",
       "      <td>219</td>\n",
       "      <td>41.2</td>\n",
       "      <td>2</td>\n",
       "      <td>0</td>\n",
       "      <td>3</td>\n",
       "      <td>0.5</td>\n",
       "      <td>52</td>\n",
       "    </tr>\n",
       "    <tr>\n",
       "      <td>3</td>\n",
       "      <td>Ainsley</td>\n",
       "      <td>Maitland-Niles</td>\n",
       "      <td>0</td>\n",
       "      <td>2</td>\n",
       "      <td>36</td>\n",
       "      <td>1210</td>\n",
       "      <td>19</td>\n",
       "      <td>155.4</td>\n",
       "      <td>261.8</td>\n",
       "      <td>37.0</td>\n",
       "      <td>3</td>\n",
       "      <td>216</td>\n",
       "      <td>44.9</td>\n",
       "      <td>3</td>\n",
       "      <td>1</td>\n",
       "      <td>3</td>\n",
       "      <td>2.5</td>\n",
       "      <td>46</td>\n",
       "    </tr>\n",
       "    <tr>\n",
       "      <td>4</td>\n",
       "      <td>Sokratis</td>\n",
       "      <td>Papastathopoulos</td>\n",
       "      <td>2</td>\n",
       "      <td>0</td>\n",
       "      <td>52</td>\n",
       "      <td>1606</td>\n",
       "      <td>25</td>\n",
       "      <td>31.8</td>\n",
       "      <td>431.6</td>\n",
       "      <td>106.0</td>\n",
       "      <td>5</td>\n",
       "      <td>286</td>\n",
       "      <td>57.1</td>\n",
       "      <td>3</td>\n",
       "      <td>0</td>\n",
       "      <td>5</td>\n",
       "      <td>1.4</td>\n",
       "      <td>49</td>\n",
       "    </tr>\n",
       "    <tr>\n",
       "      <td>...</td>\n",
       "      <td>...</td>\n",
       "      <td>...</td>\n",
       "      <td>...</td>\n",
       "      <td>...</td>\n",
       "      <td>...</td>\n",
       "      <td>...</td>\n",
       "      <td>...</td>\n",
       "      <td>...</td>\n",
       "      <td>...</td>\n",
       "      <td>...</td>\n",
       "      <td>...</td>\n",
       "      <td>...</td>\n",
       "      <td>...</td>\n",
       "      <td>...</td>\n",
       "      <td>...</td>\n",
       "      <td>...</td>\n",
       "      <td>...</td>\n",
       "      <td>...</td>\n",
       "    </tr>\n",
       "    <tr>\n",
       "      <td>605</td>\n",
       "      <td>Rúben Diogo</td>\n",
       "      <td>da Silva Neves</td>\n",
       "      <td>2</td>\n",
       "      <td>1</td>\n",
       "      <td>61</td>\n",
       "      <td>1952</td>\n",
       "      <td>27</td>\n",
       "      <td>266.0</td>\n",
       "      <td>347.8</td>\n",
       "      <td>189.0</td>\n",
       "      <td>4</td>\n",
       "      <td>316</td>\n",
       "      <td>80.5</td>\n",
       "      <td>5</td>\n",
       "      <td>0</td>\n",
       "      <td>6</td>\n",
       "      <td>4.4</td>\n",
       "      <td>52</td>\n",
       "    </tr>\n",
       "    <tr>\n",
       "      <td>606</td>\n",
       "      <td>João Filipe Iria</td>\n",
       "      <td>Santos Moutinho</td>\n",
       "      <td>1</td>\n",
       "      <td>7</td>\n",
       "      <td>85</td>\n",
       "      <td>2155</td>\n",
       "      <td>30</td>\n",
       "      <td>848.0</td>\n",
       "      <td>557.6</td>\n",
       "      <td>108.0</td>\n",
       "      <td>11</td>\n",
       "      <td>450</td>\n",
       "      <td>151.7</td>\n",
       "      <td>5</td>\n",
       "      <td>0</td>\n",
       "      <td>5</td>\n",
       "      <td>5.2</td>\n",
       "      <td>54</td>\n",
       "    </tr>\n",
       "    <tr>\n",
       "      <td>608</td>\n",
       "      <td>Adama</td>\n",
       "      <td>Traoré</td>\n",
       "      <td>4</td>\n",
       "      <td>7</td>\n",
       "      <td>103</td>\n",
       "      <td>1925</td>\n",
       "      <td>28</td>\n",
       "      <td>555.7</td>\n",
       "      <td>588.0</td>\n",
       "      <td>454.0</td>\n",
       "      <td>14</td>\n",
       "      <td>437</td>\n",
       "      <td>159.9</td>\n",
       "      <td>4</td>\n",
       "      <td>0</td>\n",
       "      <td>0</td>\n",
       "      <td>19.9</td>\n",
       "      <td>58</td>\n",
       "    </tr>\n",
       "    <tr>\n",
       "      <td>611</td>\n",
       "      <td>Leander</td>\n",
       "      <td>Dendoncker</td>\n",
       "      <td>2</td>\n",
       "      <td>0</td>\n",
       "      <td>62</td>\n",
       "      <td>1998</td>\n",
       "      <td>29</td>\n",
       "      <td>93.1</td>\n",
       "      <td>389.2</td>\n",
       "      <td>190.0</td>\n",
       "      <td>6</td>\n",
       "      <td>309</td>\n",
       "      <td>67.2</td>\n",
       "      <td>4</td>\n",
       "      <td>0</td>\n",
       "      <td>2</td>\n",
       "      <td>9.8</td>\n",
       "      <td>44</td>\n",
       "    </tr>\n",
       "    <tr>\n",
       "      <td>614</td>\n",
       "      <td>Pedro</td>\n",
       "      <td>Lomba Neto</td>\n",
       "      <td>2</td>\n",
       "      <td>2</td>\n",
       "      <td>37</td>\n",
       "      <td>617</td>\n",
       "      <td>8</td>\n",
       "      <td>132.9</td>\n",
       "      <td>147.4</td>\n",
       "      <td>190.0</td>\n",
       "      <td>0</td>\n",
       "      <td>126</td>\n",
       "      <td>46.9</td>\n",
       "      <td>0</td>\n",
       "      <td>0</td>\n",
       "      <td>2</td>\n",
       "      <td>0.2</td>\n",
       "      <td>50</td>\n",
       "    </tr>\n",
       "  </tbody>\n",
       "</table>\n",
       "<p>352 rows × 18 columns</p>\n",
       "</div>"
      ],
      "text/plain": [
       "           first_name       second_name  goals_scored  assists  total_points  \\\n",
       "0            Shkodran           Mustafi             0        2            19   \n",
       "1              Héctor          Bellerín             1        0            17   \n",
       "2                Sead         Kolasinac             0        2            34   \n",
       "3             Ainsley    Maitland-Niles             0        2            36   \n",
       "4            Sokratis  Papastathopoulos             2        0            52   \n",
       "..                ...               ...           ...      ...           ...   \n",
       "605       Rúben Diogo    da Silva Neves             2        1            61   \n",
       "606  João Filipe Iria   Santos Moutinho             1        7            85   \n",
       "608             Adama            Traoré             4        7           103   \n",
       "611           Leander        Dendoncker             2        0            62   \n",
       "614             Pedro        Lomba Neto             2        2            37   \n",
       "\n",
       "     minutes  goals_conceded  creativity  influence  threat  bonus  bps  \\\n",
       "0        440               7        13.2      128.8    79.0      1  101   \n",
       "1        442               8        28.1      103.8    28.0      3   81   \n",
       "2       1086              18       156.3      190.0    67.0      1  219   \n",
       "3       1210              19       155.4      261.8    37.0      3  216   \n",
       "4       1606              25        31.8      431.6   106.0      5  286   \n",
       "..       ...             ...         ...        ...     ...    ...  ...   \n",
       "605     1952              27       266.0      347.8   189.0      4  316   \n",
       "606     2155              30       848.0      557.6   108.0     11  450   \n",
       "608     1925              28       555.7      588.0   454.0     14  437   \n",
       "611     1998              29        93.1      389.2   190.0      6  309   \n",
       "614      617               8       132.9      147.4   190.0      0  126   \n",
       "\n",
       "     ict_index  clean_sheets  red_cards  yellow_cards  selected_by_percent  \\\n",
       "0         22.2             1          0             0                  0.3   \n",
       "1         16.1             1          0             2                  0.8   \n",
       "2         41.2             2          0             3                  0.5   \n",
       "3         44.9             3          1             3                  2.5   \n",
       "4         57.1             3          0             5                  1.4   \n",
       "..         ...           ...        ...           ...                  ...   \n",
       "605       80.5             5          0             6                  4.4   \n",
       "606      151.7             5          0             5                  5.2   \n",
       "608      159.9             4          0             0                 19.9   \n",
       "611       67.2             4          0             2                  9.8   \n",
       "614       46.9             0          0             2                  0.2   \n",
       "\n",
       "     now_cost  \n",
       "0          51  \n",
       "1          54  \n",
       "2          52  \n",
       "3          46  \n",
       "4          49  \n",
       "..        ...  \n",
       "605        52  \n",
       "606        54  \n",
       "608        58  \n",
       "611        44  \n",
       "614        50  \n",
       "\n",
       "[352 rows x 18 columns]"
      ]
     },
     "execution_count": 71,
     "metadata": {},
     "output_type": "execute_result"
    }
   ],
   "source": [
    "#Removing any players who have played fewer than 400 minutes (about 4.5 matches) this season.\n",
    "address = address[address.minutes > 400]\n",
    "address"
   ]
  },
  {
   "cell_type": "code",
   "execution_count": 72,
   "metadata": {},
   "outputs": [
    {
     "name": "stdout",
     "output_type": "stream",
     "text": [
      "  first_name       second_name  goals_scored  assists  total_points  minutes  \\\n",
      "0   Shkodran           Mustafi             0        2            19      440   \n",
      "1     Héctor          Bellerín             1        0            17      442   \n",
      "2       Sead         Kolasinac             0        2            34     1086   \n",
      "3    Ainsley    Maitland-Niles             0        2            36     1210   \n",
      "4   Sokratis  Papastathopoulos             2        0            52     1606   \n",
      "\n",
      "   goals_conceded  creativity  influence  threat  bonus  bps  ict_index  \\\n",
      "0               7        13.2      128.8    79.0      1  101       22.2   \n",
      "1               8        28.1      103.8    28.0      3   81       16.1   \n",
      "2              18       156.3      190.0    67.0      1  219       41.2   \n",
      "3              19       155.4      261.8    37.0      3  216       44.9   \n",
      "4              25        31.8      431.6   106.0      5  286       57.1   \n",
      "\n",
      "   clean_sheets  red_cards  yellow_cards  selected_by_percent  now_cost  \\\n",
      "0             1          0             0                  0.3        51   \n",
      "1             1          0             2                  0.8        54   \n",
      "2             2          0             3                  0.5        52   \n",
      "3             3          1             3                  2.5        46   \n",
      "4             3          0             5                  1.4        49   \n",
      "\n",
      "   points_per_minute  \n",
      "0           0.043182  \n",
      "1           0.038462  \n",
      "2           0.031308  \n",
      "3           0.029752  \n",
      "4           0.032379  \n"
     ]
    }
   ],
   "source": [
    "#Calculating the points per minute.\n",
    "I = range(0,len(address))\n",
    "J = list(I)\n",
    "for i in I:\n",
    "    J[i] = address.iloc[i]['total_points'] / address.iloc[i]['minutes']\n",
    "address.insert(18, 'points_per_minute', J)\n",
    "print(address.head())\n",
    "\n",
    "#Recall:\n",
    "avg_ppm = 0.03855688421706641"
   ]
  },
  {
   "cell_type": "code",
   "execution_count": 73,
   "metadata": {},
   "outputs": [],
   "source": [
    "#spliting the data into training and testing, roughly 80% will be training, 20% testing.\n",
    "\n",
    "msk = np.random.rand(len(address)) < 0.8\n",
    "\n",
    "train = address[msk]   #Splitting the whole data\n",
    "test = address[~msk]\n",
    "\n",
    "\n",
    "#removing the unwanted columns.\n",
    "#We drop the names because they are strings and the model cant use them, we can use the index to identify players later\n",
    "data_train = train.drop(['total_points', 'minutes', 'first_name', 'second_name', 'points_per_minute'], 1)   \n",
    "data_test = test.drop(['total_points', 'minutes', 'first_name', 'second_name', 'points_per_minute'], 1)\n",
    "\n",
    "ppm_train_1 = address[msk][['points_per_minute']]\n",
    "ppm_test_1 = address[~msk][['points_per_minute']]\n",
    "#Need these to be a series format in order for use of LogisticRegression().\n",
    "ppm_train = ppm_train_1['points_per_minute']\n",
    "ppm_test = ppm_test_1['points_per_minute']    "
   ]
  },
  {
   "cell_type": "code",
   "execution_count": 74,
   "metadata": {},
   "outputs": [
    {
     "data": {
      "text/plain": [
       "(289, 14)"
      ]
     },
     "execution_count": 74,
     "metadata": {},
     "output_type": "execute_result"
    }
   ],
   "source": [
    "data_train.shape   #pre-modelling dimensionality checks"
   ]
  },
  {
   "cell_type": "code",
   "execution_count": 75,
   "metadata": {},
   "outputs": [
    {
     "data": {
      "text/plain": [
       "(289,)"
      ]
     },
     "execution_count": 75,
     "metadata": {},
     "output_type": "execute_result"
    }
   ],
   "source": [
    "ppm_train.shape"
   ]
  },
  {
   "cell_type": "markdown",
   "metadata": {},
   "source": [
    "# Linear Regression"
   ]
  },
  {
   "cell_type": "code",
   "execution_count": 76,
   "metadata": {},
   "outputs": [
    {
     "data": {
      "text/plain": [
       "LinearRegression(copy_X=True, fit_intercept=True, n_jobs=None, normalize=False)"
      ]
     },
     "execution_count": 76,
     "metadata": {},
     "output_type": "execute_result"
    }
   ],
   "source": [
    "#Importing and applying the model\n",
    "\n",
    "from sklearn import linear_model, datasets\n",
    "from sklearn.metrics import mean_squared_error, r2_score\n",
    "\n",
    "lin_reg = linear_model.LinearRegression()\n",
    "lin_reg.fit(data_train,ppm_train)"
   ]
  },
  {
   "cell_type": "code",
   "execution_count": 77,
   "metadata": {},
   "outputs": [
    {
     "data": {
      "text/plain": [
       "array([0.04489629, 0.03316059, 0.0276283 , 0.03310833, 0.02764601,\n",
       "       0.04098534, 0.03404247, 0.0382125 , 0.03374556, 0.03423487,\n",
       "       0.03529309, 0.03850858, 0.04784331, 0.0308771 , 0.03557056,\n",
       "       0.03360287, 0.02483905, 0.05344412, 0.03424674, 0.03175783,\n",
       "       0.04828573, 0.08051055, 0.04778246, 0.04220586, 0.04167023,\n",
       "       0.0277106 , 0.04290581, 0.04146622, 0.05402233, 0.04875154,\n",
       "       0.09221493, 0.08276026, 0.03001414, 0.03942645, 0.03515156,\n",
       "       0.04042283, 0.04742411, 0.02671354, 0.03771805, 0.04345416,\n",
       "       0.01927581, 0.02707357, 0.03510299, 0.03139232, 0.03754436,\n",
       "       0.04660085, 0.04715056, 0.0406952 , 0.04823039, 0.04067878,\n",
       "       0.03467578, 0.04817719, 0.0370543 , 0.02335258, 0.02706   ,\n",
       "       0.04565129, 0.03372295, 0.03824919, 0.03288419, 0.03026852,\n",
       "       0.03289708, 0.03510193, 0.03248061])"
      ]
     },
     "execution_count": 77,
     "metadata": {},
     "output_type": "execute_result"
    }
   ],
   "source": [
    "lin_reg_predictions = lin_reg.predict(data_test)\n",
    "lin_reg_predictions"
   ]
  },
  {
   "cell_type": "code",
   "execution_count": 78,
   "metadata": {},
   "outputs": [
    {
     "data": {
      "text/plain": [
       "0.04489629091031857"
      ]
     },
     "execution_count": 78,
     "metadata": {},
     "output_type": "execute_result"
    }
   ],
   "source": [
    "#Mustafi test:\n",
    "mustafi_test = address.loc[address['second_name'] == 'Mustafi']\n",
    "#Removing the required columns.\n",
    "mustafi_test_1 = mustafi_test.drop(['total_points', 'minutes','first_name', 'second_name', 'points_per_minute'], 1) \n",
    "#Calling the model, should return 0.06550......\n",
    "lin_reg.predict(mustafi_test_1)[0]"
   ]
  },
  {
   "cell_type": "code",
   "execution_count": 79,
   "metadata": {},
   "outputs": [],
   "source": [
    "#So we can see that our model returns some numbers, time to find how accurate they are.\n",
    "#First lets build a function to extract a specific players prediction.\n",
    "#Note: I can already see a problem that the model returns negative values."
   ]
  },
  {
   "cell_type": "code",
   "execution_count": 80,
   "metadata": {},
   "outputs": [],
   "source": [
    "def predictedpoints_lr(fn, sn):\n",
    "    i = address.loc[address['first_name'] == fn].index[0]\n",
    "    j = address.loc[address['second_name'] == sn].index[0]    #Finding the index from the name.\n",
    "    if i == j:\n",
    "        a = address.loc[address['second_name'] == sn]\n",
    "        b = a.drop(['total_points', 'minutes','first_name', 'second_name', 'points_per_minute'], 1) \n",
    "        c = lin_reg.predict(b)[0]\n",
    "        return c * a.iloc[0]['minutes']\n",
    "    else:\n",
    "        print('First name index does not match the last, likely there are multiple players with that name.')\n",
    "        \n",
    "def predictedppm_lr(fn, sn):\n",
    "    i = address.loc[address['first_name'] == fn].index[0]\n",
    "    j = address.loc[address['second_name'] == sn].index[0]    #Finding the index from the name.\n",
    "    if i == j:\n",
    "        a = address.loc[address['second_name'] == sn]\n",
    "        b = a.drop(['total_points', 'minutes','first_name', 'second_name', 'points_per_minute'], 1) \n",
    "        c = lin_reg.predict(b)[0]\n",
    "        return c \n",
    "    else:\n",
    "        print('First name index does not match the last, likely there are multiple players with that name.')\n",
    "    "
   ]
  },
  {
   "cell_type": "code",
   "execution_count": 81,
   "metadata": {},
   "outputs": [
    {
     "data": {
      "text/plain": [
       "19.754368000540172"
      ]
     },
     "execution_count": 81,
     "metadata": {},
     "output_type": "execute_result"
    }
   ],
   "source": [
    "#Lets test a couple of names:\n",
    "predictedpoints_lr('Shkodran', 'Mustafi')"
   ]
  },
  {
   "cell_type": "code",
   "execution_count": 186,
   "metadata": {},
   "outputs": [
    {
     "data": {
      "text/plain": [
       "156.2094763230829"
      ]
     },
     "execution_count": 186,
     "metadata": {},
     "output_type": "execute_result"
    }
   ],
   "source": [
    "#Mustafi currently has 19 points! An excellent first guess, lets try Alexander-Arnold.\n",
    "predictedpoints_lr('Trent', 'Alexander-Arnold')"
   ]
  },
  {
   "cell_type": "code",
   "execution_count": 177,
   "metadata": {},
   "outputs": [
    {
     "data": {
      "text/html": [
       "<div>\n",
       "<style scoped>\n",
       "    .dataframe tbody tr th:only-of-type {\n",
       "        vertical-align: middle;\n",
       "    }\n",
       "\n",
       "    .dataframe tbody tr th {\n",
       "        vertical-align: top;\n",
       "    }\n",
       "\n",
       "    .dataframe thead th {\n",
       "        text-align: right;\n",
       "    }\n",
       "</style>\n",
       "<table border=\"1\" class=\"dataframe\">\n",
       "  <thead>\n",
       "    <tr style=\"text-align: right;\">\n",
       "      <th></th>\n",
       "      <th>first_name</th>\n",
       "      <th>second_name</th>\n",
       "      <th>goals_scored</th>\n",
       "      <th>assists</th>\n",
       "      <th>total_points</th>\n",
       "      <th>minutes</th>\n",
       "      <th>goals_conceded</th>\n",
       "      <th>creativity</th>\n",
       "      <th>influence</th>\n",
       "      <th>threat</th>\n",
       "      <th>bonus</th>\n",
       "      <th>bps</th>\n",
       "      <th>ict_index</th>\n",
       "      <th>clean_sheets</th>\n",
       "      <th>red_cards</th>\n",
       "      <th>yellow_cards</th>\n",
       "      <th>selected_by_percent</th>\n",
       "      <th>now_cost</th>\n",
       "      <th>points_per_minute</th>\n",
       "    </tr>\n",
       "  </thead>\n",
       "  <tbody>\n",
       "    <tr>\n",
       "      <td>273</td>\n",
       "      <td>Trent</td>\n",
       "      <td>Alexander-Arnold</td>\n",
       "      <td>2</td>\n",
       "      <td>12</td>\n",
       "      <td>146</td>\n",
       "      <td>2189</td>\n",
       "      <td>15</td>\n",
       "      <td>1010.6</td>\n",
       "      <td>731.6</td>\n",
       "      <td>300.0</td>\n",
       "      <td>14</td>\n",
       "      <td>636</td>\n",
       "      <td>204.2</td>\n",
       "      <td>10</td>\n",
       "      <td>0</td>\n",
       "      <td>4</td>\n",
       "      <td>43.5</td>\n",
       "      <td>77</td>\n",
       "      <td>0.066697</td>\n",
       "    </tr>\n",
       "  </tbody>\n",
       "</table>\n",
       "</div>"
      ],
      "text/plain": [
       "    first_name       second_name  goals_scored  assists  total_points  \\\n",
       "273      Trent  Alexander-Arnold             2       12           146   \n",
       "\n",
       "     minutes  goals_conceded  creativity  influence  threat  bonus  bps  \\\n",
       "273     2189              15      1010.6      731.6   300.0     14  636   \n",
       "\n",
       "     ict_index  clean_sheets  red_cards  yellow_cards  selected_by_percent  \\\n",
       "273      204.2            10          0             4                 43.5   \n",
       "\n",
       "     now_cost  points_per_minute  \n",
       "273        77           0.066697  "
      ]
     },
     "execution_count": 177,
     "metadata": {},
     "output_type": "execute_result"
    }
   ],
   "source": [
    "address.loc[address['second_name'] == 'Alexander-Arnold']"
   ]
  },
  {
   "cell_type": "code",
   "execution_count": null,
   "metadata": {},
   "outputs": [],
   "source": [
    "#He has 146, not as good as Mustafi's prediction but still fairly close."
   ]
  },
  {
   "cell_type": "code",
   "execution_count": 82,
   "metadata": {},
   "outputs": [
    {
     "name": "stdout",
     "output_type": "stream",
     "text": [
      "    first_name second_name  goals_scored  assists  total_points  minutes  \\\n",
      "186    Mamadou       Sakho             0        0             7      465   \n",
      "399        Ben     Godfrey             0        0            24     1564   \n",
      "403      Grant      Hanley             0        0            14      901   \n",
      "525       José     Holebas             0        0            16     1004   \n",
      "37     Kortney       Hause             0        0            13      810   \n",
      "\n",
      "     goals_conceded  creativity  influence  threat  bonus  bps  ict_index  \\\n",
      "186               8        13.2       86.0     6.0      0   69       10.6   \n",
      "399              35        17.9      367.8    41.0      0  279       42.9   \n",
      "403              20         2.4      224.4    72.0      1  143       30.0   \n",
      "525              26       207.8      170.0    62.0      0  141       43.8   \n",
      "37               19        20.7      200.8    37.0      0  104       25.9   \n",
      "\n",
      "     clean_sheets  red_cards  yellow_cards  selected_by_percent  now_cost  \\\n",
      "186             0          1             0                  0.1        50   \n",
      "399             2          1             1                  0.1        44   \n",
      "403             1          0             2                  2.1        40   \n",
      "525             2          0             5                  0.7        46   \n",
      "37              1          0             2                  0.1        44   \n",
      "\n",
      "     points_per_minute  \n",
      "186           0.015054  \n",
      "399           0.015345  \n",
      "403           0.015538  \n",
      "525           0.015936  \n",
      "37            0.016049  \n"
     ]
    }
   ],
   "source": [
    "#Lets visualise how well the model does by plotting its predictions against the true values for the whole dataset.\n",
    "#First I'll sort the dataframe in ascending order by points per minute, hopefully this will look a bit nicer.\n",
    "address_1 = address.sort_values(by = 'points_per_minute', ascending = 1)\n",
    "print(address_1.head())"
   ]
  },
  {
   "cell_type": "code",
   "execution_count": 83,
   "metadata": {},
   "outputs": [
    {
     "data": {
      "image/png": "[encoded data removed]",
      "text/plain": [
       "<Figure size 720x576 with 1 Axes>"
      ]
     },
     "metadata": {
      "needs_background": "light"
     },
     "output_type": "display_data"
    }
   ],
   "source": [
    "players = address_1.loc[:, 'second_name']\n",
    "ppm = address_1.loc[:, 'points_per_minute']\n",
    "\n",
    "plt.figure(figsize = (10,8))\n",
    "plt.scatter(players,ppm)\n",
    "\n",
    "plt.xlabel('Players')\n",
    "plt.ylabel('Points per minute')\n",
    "plt.title(\"Sorted scatter of points per minute\")\n",
    "\n",
    "plt.show()"
   ]
  },
  {
   "cell_type": "code",
   "execution_count": 84,
   "metadata": {},
   "outputs": [
    {
     "data": {
      "image/png": "[encoded data removed]",
      "text/plain": [
       "<Figure size 720x576 with 1 Axes>"
      ]
     },
     "metadata": {
      "needs_background": "light"
     },
     "output_type": "display_data"
    }
   ],
   "source": [
    "predictions_full = lin_reg.predict(address_1.drop(['first_name', 'second_name', 'total_points', 'minutes', 'points_per_minute'], 1))\n",
    "\n",
    "players = address_1.loc[:, 'second_name']\n",
    "\n",
    "\n",
    "plt.figure(figsize = (10,8))\n",
    "\n",
    "plt.scatter(players,predictions_full)\n",
    "\n",
    "plt.xlabel('Players')\n",
    "plt.ylabel('Predicted points per minute')\n",
    "plt.title(\"Sorted scatter of predicted points per minute\")\n",
    "\n",
    "plt.show()"
   ]
  },
  {
   "cell_type": "code",
   "execution_count": 85,
   "metadata": {
    "scrolled": true
   },
   "outputs": [],
   "source": [
    "#We can see a loose upward trend in the predictions which matches the actual data, indicative of a strong relationship.\n",
    "#Lets test the relationship between the model and the response variable using a simple R^2 test."
   ]
  },
  {
   "cell_type": "code",
   "execution_count": 86,
   "metadata": {},
   "outputs": [
    {
     "name": "stdout",
     "output_type": "stream",
     "text": [
      "0.8103744644577228\n"
     ]
    }
   ],
   "source": [
    "rsquared = lin_reg.score(data_test, ppm_test)\n",
    "print(rsquared)"
   ]
  },
  {
   "cell_type": "code",
   "execution_count": 61,
   "metadata": {},
   "outputs": [],
   "source": [
    "#This is a pretty good score, I think there are too many different variables though.\n",
    "#To make a more useful model with a higher R^2 I will try again with only a few factors.\n",
    "#Just for fun, lets make a polynomial regression model with all the factors first."
   ]
  },
  {
   "cell_type": "markdown",
   "metadata": {},
   "source": [
    "# Ploynomial Regression"
   ]
  },
  {
   "cell_type": "code",
   "execution_count": 87,
   "metadata": {},
   "outputs": [
    {
     "data": {
      "text/plain": [
       "array([[1.0000e+00, 0.0000e+00, 0.0000e+00, ..., 1.0000e-02, 5.0000e+00,\n",
       "        2.5000e+03],\n",
       "       [1.0000e+00, 0.0000e+00, 0.0000e+00, ..., 1.0000e-02, 4.4000e+00,\n",
       "        1.9360e+03],\n",
       "       [1.0000e+00, 0.0000e+00, 0.0000e+00, ..., 4.4100e+00, 8.4000e+01,\n",
       "        1.6000e+03],\n",
       "       ...,\n",
       "       [1.0000e+00, 7.0000e+00, 9.0000e+00, ..., 9.4090e+01, 8.3420e+02,\n",
       "        7.3960e+03],\n",
       "       [1.0000e+00, 3.0000e+00, 3.0000e+00, ..., 6.2500e+00, 1.3000e+02,\n",
       "        2.7040e+03],\n",
       "       [1.0000e+00, 1.6000e+01, 4.0000e+00, ..., 6.0516e+02, 2.9766e+03,\n",
       "        1.4641e+04]])"
      ]
     },
     "execution_count": 87,
     "metadata": {},
     "output_type": "execute_result"
    }
   ],
   "source": [
    "from sklearn.preprocessing import PolynomialFeatures\n",
    "\n",
    "#First lets transform the data by adding squared terms so that we can then model linearly, but still end up with a polynomial model.\n",
    "poly_reg = PolynomialFeatures(degree = 2)\n",
    "data_poly = poly_reg.fit_transform(data_train)\n",
    "test_poly = poly_reg.fit_transform(data_test)\n",
    "\n",
    "full_data_poly = poly_reg.fit_transform(address_1.drop(['first_name', 'second_name', 'total_points', 'minutes', 'points_per_minute'], 1))\n",
    "full_data_poly"
   ]
  },
  {
   "cell_type": "code",
   "execution_count": 88,
   "metadata": {},
   "outputs": [
    {
     "data": {
      "text/plain": [
       "LinearRegression(copy_X=True, fit_intercept=True, n_jobs=None, normalize=False)"
      ]
     },
     "execution_count": 88,
     "metadata": {},
     "output_type": "execute_result"
    }
   ],
   "source": [
    "#Building the model as before\n",
    "lin_reg_2 = linear_model.LinearRegression()\n",
    "lin_reg_2.fit(data_poly, ppm_train)"
   ]
  },
  {
   "cell_type": "code",
   "execution_count": 89,
   "metadata": {},
   "outputs": [
    {
     "data": {
      "text/plain": [
       "<matplotlib.collections.PathCollection at 0x1a28914ed0>"
      ]
     },
     "execution_count": 89,
     "metadata": {},
     "output_type": "execute_result"
    },
    {
     "data": {
      "image/png": "[encoded data removed]",
      "text/plain": [
       "<Figure size 720x576 with 1 Axes>"
      ]
     },
     "metadata": {
      "needs_background": "light"
     },
     "output_type": "display_data"
    }
   ],
   "source": [
    "predictions_1 = lin_reg_2.predict(full_data_poly)\n",
    "\n",
    "plt.figure(figsize = (10,8))\n",
    "\n",
    "plt.scatter(players, predictions_1)\n",
    "\n"
   ]
  },
  {
   "cell_type": "code",
   "execution_count": 90,
   "metadata": {},
   "outputs": [
    {
     "data": {
      "image/png": "[encoded data removed]",
      "text/plain": [
       "<Figure size 720x576 with 1 Axes>"
      ]
     },
     "metadata": {
      "needs_background": "light"
     },
     "output_type": "display_data"
    }
   ],
   "source": [
    "plt.figure(figsize = (10,8))\n",
    "\n",
    "plt.scatter(players, predictions_1)\n",
    "\n",
    "plt.xlabel('Players')\n",
    "plt.ylabel('Predicted points per minute')\n",
    "plt.title(\"Sorted scatter of predicted points per minute\")\n",
    "\n",
    "plt.show()"
   ]
  },
  {
   "cell_type": "code",
   "execution_count": 91,
   "metadata": {},
   "outputs": [
    {
     "name": "stdout",
     "output_type": "stream",
     "text": [
      "0.5269070206770468\n"
     ]
    }
   ],
   "source": [
    "#Again we see a similar upward trend as the linear model, but, as expected, it does not look a significant improvement.\n",
    "#Lets calculate R^2 again to confirm.\n",
    "\n",
    "rsquared_1 = lin_reg_2.score(test_poly, ppm_test)\n",
    "print(rsquared_1)"
   ]
  },
  {
   "cell_type": "code",
   "execution_count": null,
   "metadata": {},
   "outputs": [],
   "source": [
    "#This is worse than our linear model, lets go back to that, but try with fewer factors to see if we can improve our R^2."
   ]
  },
  {
   "cell_type": "markdown",
   "metadata": {},
   "source": [
    "# Fewer Factors"
   ]
  },
  {
   "cell_type": "code",
   "execution_count": 182,
   "metadata": {},
   "outputs": [
    {
     "data": {
      "text/html": [
       "<div>\n",
       "<style scoped>\n",
       "    .dataframe tbody tr th:only-of-type {\n",
       "        vertical-align: middle;\n",
       "    }\n",
       "\n",
       "    .dataframe tbody tr th {\n",
       "        vertical-align: top;\n",
       "    }\n",
       "\n",
       "    .dataframe thead th {\n",
       "        text-align: right;\n",
       "    }\n",
       "</style>\n",
       "<table border=\"1\" class=\"dataframe\">\n",
       "  <thead>\n",
       "    <tr style=\"text-align: right;\">\n",
       "      <th></th>\n",
       "      <th>first_name</th>\n",
       "      <th>second_name</th>\n",
       "      <th>goals_scored</th>\n",
       "      <th>assists</th>\n",
       "      <th>goals_conceded</th>\n",
       "      <th>bps</th>\n",
       "      <th>red_cards</th>\n",
       "      <th>yellow_cards</th>\n",
       "    </tr>\n",
       "  </thead>\n",
       "  <tbody>\n",
       "    <tr>\n",
       "      <td>0</td>\n",
       "      <td>Shkodran</td>\n",
       "      <td>Mustafi</td>\n",
       "      <td>0</td>\n",
       "      <td>2</td>\n",
       "      <td>7</td>\n",
       "      <td>101</td>\n",
       "      <td>0</td>\n",
       "      <td>0</td>\n",
       "    </tr>\n",
       "    <tr>\n",
       "      <td>1</td>\n",
       "      <td>Héctor</td>\n",
       "      <td>Bellerín</td>\n",
       "      <td>1</td>\n",
       "      <td>0</td>\n",
       "      <td>8</td>\n",
       "      <td>81</td>\n",
       "      <td>0</td>\n",
       "      <td>2</td>\n",
       "    </tr>\n",
       "    <tr>\n",
       "      <td>2</td>\n",
       "      <td>Sead</td>\n",
       "      <td>Kolasinac</td>\n",
       "      <td>0</td>\n",
       "      <td>2</td>\n",
       "      <td>18</td>\n",
       "      <td>219</td>\n",
       "      <td>0</td>\n",
       "      <td>3</td>\n",
       "    </tr>\n",
       "    <tr>\n",
       "      <td>3</td>\n",
       "      <td>Ainsley</td>\n",
       "      <td>Maitland-Niles</td>\n",
       "      <td>0</td>\n",
       "      <td>2</td>\n",
       "      <td>19</td>\n",
       "      <td>216</td>\n",
       "      <td>1</td>\n",
       "      <td>3</td>\n",
       "    </tr>\n",
       "    <tr>\n",
       "      <td>4</td>\n",
       "      <td>Sokratis</td>\n",
       "      <td>Papastathopoulos</td>\n",
       "      <td>2</td>\n",
       "      <td>0</td>\n",
       "      <td>25</td>\n",
       "      <td>286</td>\n",
       "      <td>0</td>\n",
       "      <td>5</td>\n",
       "    </tr>\n",
       "  </tbody>\n",
       "</table>\n",
       "</div>"
      ],
      "text/plain": [
       "  first_name       second_name  goals_scored  assists  goals_conceded  bps  \\\n",
       "0   Shkodran           Mustafi             0        2               7  101   \n",
       "1     Héctor          Bellerín             1        0               8   81   \n",
       "2       Sead         Kolasinac             0        2              18  219   \n",
       "3    Ainsley    Maitland-Niles             0        2              19  216   \n",
       "4   Sokratis  Papastathopoulos             2        0              25  286   \n",
       "\n",
       "   red_cards  yellow_cards  \n",
       "0          0             0  \n",
       "1          0             2  \n",
       "2          0             3  \n",
       "3          1             3  \n",
       "4          0             5  "
      ]
     },
     "execution_count": 182,
     "metadata": {},
     "output_type": "execute_result"
    }
   ],
   "source": [
    "#Having played around with using different combinations of factors, I have found that only the following are needed:\n",
    "#Goals scored, assists, goals conceded, bps and yellow and red cards.\n",
    "#With only these we can achieve the same R^2 as our first model using all the data.\n",
    "address_ict = address[['first_name', 'second_name', 'goals_scored', 'assists', 'goals_conceded', 'bps', 'red_cards', 'yellow_cards' ]]\n",
    "address_ict.head()"
   ]
  },
  {
   "cell_type": "code",
   "execution_count": 183,
   "metadata": {},
   "outputs": [],
   "source": [
    "data_train_ict = data_train[['goals_scored', 'assists', 'goals_conceded', 'bps', 'red_cards', 'yellow_cards']]\n"
   ]
  },
  {
   "cell_type": "code",
   "execution_count": 184,
   "metadata": {},
   "outputs": [
    {
     "data": {
      "text/plain": [
       "LinearRegression(copy_X=True, fit_intercept=True, n_jobs=None, normalize=False)"
      ]
     },
     "execution_count": 184,
     "metadata": {},
     "output_type": "execute_result"
    }
   ],
   "source": [
    "lin_reg_ict = linear_model.LinearRegression()\n",
    "lin_reg_ict.fit(data_train_ict,ppm_train)"
   ]
  },
  {
   "cell_type": "code",
   "execution_count": 185,
   "metadata": {},
   "outputs": [
    {
     "name": "stdout",
     "output_type": "stream",
     "text": [
      "0.8161113010145683\n"
     ]
    }
   ],
   "source": [
    "data_test_ict = data_test[['goals_scored', 'assists', 'goals_conceded', 'bps',  'red_cards', 'yellow_cards']]\n",
    "rsquared_ict = lin_reg_ict.score(data_test_ict, ppm_test)\n",
    "print(rsquared_ict)"
   ]
  },
  {
   "cell_type": "code",
   "execution_count": null,
   "metadata": {},
   "outputs": [],
   "source": [
    "#I would conclude then that this is the optimal regression model for this dataset.\n",
    "\n",
    "#Note: An interesting follow-up project would be to predict the players current fantasy market value instead."
   ]
  }
 ],
 "metadata": {
  "kernelspec": {
   "display_name": "Python 3",
   "language": "python",
   "name": "python3"
  },
  "language_info": {
   "codemirror_mode": {
    "name": "ipython",
    "version": 3
   },
   "file_extension": ".py",
   "mimetype": "text/x-python",
   "name": "python",
   "nbconvert_exporter": "python",
   "pygments_lexer": "ipython3",
   "version": "3.7.4"
  }
 },
 "nbformat": 4,
 "nbformat_minor": 2
}
