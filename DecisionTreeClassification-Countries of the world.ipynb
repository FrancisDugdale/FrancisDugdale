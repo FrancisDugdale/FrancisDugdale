{
 "cells": [
  {
   "cell_type": "markdown",
   "metadata": {},
   "source": [
    "# Descision Tree classification with countries of the world"
   ]
  },
  {
   "cell_type": "code",
   "execution_count": null,
   "metadata": {},
   "outputs": [],
   "source": [
    "#I will be using the countries of the world dataset to try to predict in which region a particular country lies.\n",
    "#I will be using the decision tree classifier for this as I will only be using a few simple factors."
   ]
  },
  {
   "cell_type": "code",
   "execution_count": 7,
   "metadata": {},
   "outputs": [],
   "source": [
    "#Dependancies\n",
    "import pandas as pd\n",
    "import numpy as np\n",
    "from sklearn import tree\n",
    "from sklearn.model_selection import train_test_split\n",
    "from sklearn import preprocessing\n",
    "from sklearn.metrics import accuracy_score\n",
    "import matplotlib.pyplot as plt\n"
   ]
  },
  {
   "cell_type": "code",
   "execution_count": 141,
   "metadata": {},
   "outputs": [
    {
     "name": "stdout",
     "output_type": "stream",
     "text": [
      "   index             Country                               Region  Population  \\\n",
      "0      0        Afghanistan         ASIA (EX. NEAR EAST)             31056997   \n",
      "1      1            Albania   EASTERN EUROPE                          3581655   \n",
      "2      2            Algeria   NORTHERN AFRICA                        32930091   \n",
      "3      6           Anguilla               LATIN AMER. & CARIB           13477   \n",
      "4      7  Antigua & Barbuda               LATIN AMER. & CARIB           69108   \n",
      "\n",
      "   Area (sq. mi.)  Pop. Density (per sq. mi.)  Coastline (coast/area ratio)  \\\n",
      "0          647500                        48.0                          0.00   \n",
      "1           28748                       124.6                          1.26   \n",
      "2         2381740                        13.8                          0.04   \n",
      "3             102                       132.1                         59.80   \n",
      "4             443                       156.0                         34.54   \n",
      "\n",
      "   Net migration  Infant mortality (per 1000 births)  GDP ($ per capita)  ...  \\\n",
      "0          23.06                              163.07               700.0  ...   \n",
      "1          -4.93                               21.52              4500.0  ...   \n",
      "2          -0.39                               31.00              6000.0  ...   \n",
      "3          10.76                               21.03              8600.0  ...   \n",
      "4          -6.15                               19.46             11000.0  ...   \n",
      "\n",
      "   Phones (per 1000)  Arable (%)  Crops (%)  Other (%)  Climate  Birthrate  \\\n",
      "0                3.2       12.13       0.22      87.65      1.0      46.60   \n",
      "1               71.2       21.09       4.42      74.49      3.0      15.11   \n",
      "2               78.1        3.22       0.25      96.53      1.0      17.14   \n",
      "3              460.0        0.00       0.00     100.00      2.0      14.17   \n",
      "4              549.9       18.18       4.55      77.27      2.0      16.93   \n",
      "\n",
      "   Deathrate  Agriculture  Industry  Service  \n",
      "0      20.34        0.380     0.240    0.380  \n",
      "1       5.22        0.232     0.188    0.579  \n",
      "2       4.61        0.101     0.600    0.298  \n",
      "3       5.34        0.040     0.180    0.780  \n",
      "4       5.37        0.038     0.220    0.743  \n",
      "\n",
      "[5 rows x 21 columns]\n"
     ]
    }
   ],
   "source": [
    "data = pd.read_csv('countries of the world.csv', decimal=\",\")\n",
    "data = data.dropna() #Cleaning the data by removing NaN values.\n",
    "data.reset_index(inplace=True) #Resetting the index after removing rows.\n",
    "print(data.head())"
   ]
  },
  {
   "cell_type": "code",
   "execution_count": 142,
   "metadata": {},
   "outputs": [
    {
     "name": "stdout",
     "output_type": "stream",
     "text": [
      "   index             Country                               Region  \\\n",
      "0      0        Afghanistan         ASIA (EX. NEAR EAST)            \n",
      "1      1            Albania   EASTERN EUROPE                        \n",
      "2      2            Algeria   NORTHERN AFRICA                       \n",
      "3      6           Anguilla               LATIN AMER. & CARIB       \n",
      "4      7  Antigua & Barbuda               LATIN AMER. & CARIB       \n",
      "\n",
      "   Pop. Density (per sq. mi.)  GDP ($ per capita)  Climate  Birthrate  \n",
      "0                        48.0               700.0      1.0      46.60  \n",
      "1                       124.6              4500.0      3.0      15.11  \n",
      "2                        13.8              6000.0      1.0      17.14  \n",
      "3                       132.1              8600.0      2.0      14.17  \n",
      "4                       156.0             11000.0      2.0      16.93  \n"
     ]
    }
   ],
   "source": [
    "#Extracting only the columns which will be used for prediction, these are the factors I would consider to be most informative.\n",
    "data = data[['index', 'Country', 'Region', 'Pop. Density (per sq. mi.)', 'GDP ($ per capita)', 'Climate', 'Birthrate']]\n",
    "print(data.head())"
   ]
  },
  {
   "cell_type": "code",
   "execution_count": 143,
   "metadata": {},
   "outputs": [
    {
     "data": {
      "text/html": [
       "<div>\n",
       "<style scoped>\n",
       "    .dataframe tbody tr th:only-of-type {\n",
       "        vertical-align: middle;\n",
       "    }\n",
       "\n",
       "    .dataframe tbody tr th {\n",
       "        vertical-align: top;\n",
       "    }\n",
       "\n",
       "    .dataframe thead th {\n",
       "        text-align: right;\n",
       "    }\n",
       "</style>\n",
       "<table border=\"1\" class=\"dataframe\">\n",
       "  <thead>\n",
       "    <tr style=\"text-align: right;\">\n",
       "      <th></th>\n",
       "      <th>Region</th>\n",
       "    </tr>\n",
       "  </thead>\n",
       "  <tbody>\n",
       "    <tr>\n",
       "      <td>0</td>\n",
       "      <td>ASIA (EX. NEAR EAST)</td>\n",
       "    </tr>\n",
       "    <tr>\n",
       "      <td>1</td>\n",
       "      <td>EASTERN EUROPE</td>\n",
       "    </tr>\n",
       "    <tr>\n",
       "      <td>2</td>\n",
       "      <td>NORTHERN AFRICA</td>\n",
       "    </tr>\n",
       "    <tr>\n",
       "      <td>3</td>\n",
       "      <td>LATIN AMER. &amp; CARIB</td>\n",
       "    </tr>\n",
       "    <tr>\n",
       "      <td>4</td>\n",
       "      <td>LATIN AMER. &amp; CARIB</td>\n",
       "    </tr>\n",
       "    <tr>\n",
       "      <td>...</td>\n",
       "      <td>...</td>\n",
       "    </tr>\n",
       "    <tr>\n",
       "      <td>174</td>\n",
       "      <td>LATIN AMER. &amp; CARIB</td>\n",
       "    </tr>\n",
       "    <tr>\n",
       "      <td>175</td>\n",
       "      <td>ASIA (EX. NEAR EAST)</td>\n",
       "    </tr>\n",
       "    <tr>\n",
       "      <td>176</td>\n",
       "      <td>NEAR EAST</td>\n",
       "    </tr>\n",
       "    <tr>\n",
       "      <td>177</td>\n",
       "      <td>SUB-SAHARAN AFRICA</td>\n",
       "    </tr>\n",
       "    <tr>\n",
       "      <td>178</td>\n",
       "      <td>SUB-SAHARAN AFRICA</td>\n",
       "    </tr>\n",
       "  </tbody>\n",
       "</table>\n",
       "<p>179 rows × 1 columns</p>\n",
       "</div>"
      ],
      "text/plain": [
       "                                  Region\n",
       "0          ASIA (EX. NEAR EAST)         \n",
       "1    EASTERN EUROPE                     \n",
       "2    NORTHERN AFRICA                    \n",
       "3                LATIN AMER. & CARIB    \n",
       "4                LATIN AMER. & CARIB    \n",
       "..                                   ...\n",
       "174              LATIN AMER. & CARIB    \n",
       "175        ASIA (EX. NEAR EAST)         \n",
       "176  NEAR EAST                          \n",
       "177  SUB-SAHARAN AFRICA                 \n",
       "178  SUB-SAHARAN AFRICA                 \n",
       "\n",
       "[179 rows x 1 columns]"
      ]
     },
     "execution_count": 143,
     "metadata": {},
     "output_type": "execute_result"
    }
   ],
   "source": [
    "y = data[['Region']] #Target.\n",
    "X = data.drop(['Country', 'Region'],1) #Removing these strings so we can apply the model.\n",
    "y"
   ]
  },
  {
   "cell_type": "code",
   "execution_count": 144,
   "metadata": {},
   "outputs": [
    {
     "name": "stderr",
     "output_type": "stream",
     "text": [
      "/opt/anaconda3/lib/python3.7/site-packages/sklearn/preprocessing/label.py:235: DataConversionWarning: A column-vector y was passed when a 1d array was expected. Please change the shape of y to (n_samples, ), for example using ravel().\n",
      "  y = column_or_1d(y, warn=True)\n"
     ]
    },
    {
     "data": {
      "text/plain": [
       "array([ 0,  3,  6,  4,  4,  4,  2,  4,  8, 10,  2,  4,  5,  0,  4,  2, 10,\n",
       "        4,  9,  7,  0,  4,  9,  4,  4,  0,  3,  9,  0,  9,  0,  9,  9,  4,\n",
       "        9,  9,  4,  0,  4,  9,  9,  9,  4,  9,  4,  3, 10,  9,  4,  4,  4,\n",
       "        6,  4,  9,  9,  1,  9,  8, 10, 10,  4,  8,  9,  9,  2, 10,  9, 10,\n",
       "        4,  4,  4,  9,  9,  4,  4,  4,  0,  3, 10,  0,  0,  0,  5, 10,  5,\n",
       "        4,  0,  5,  2,  9,  0,  0,  5,  2,  0,  1,  9,  9, 10,  0,  9,  9,\n",
       "        0,  0,  9,  8,  4,  9,  9,  4,  8,  0,  9,  9, 10,  4,  8,  8,  4,\n",
       "        9,  9, 10,  5,  0,  8,  4,  8,  4,  4,  0,  3, 10,  4,  5,  9,  3,\n",
       "        9,  4,  4,  4,  8,  9,  5,  9,  9,  9,  0,  9,  9, 10,  0,  9,  4,\n",
       "        9, 10, 10,  5,  0,  2,  0,  9,  8,  4,  6,  5,  2,  9,  2,  5, 10,\n",
       "        7,  4,  2,  8,  4,  0,  5,  9,  9])"
      ]
     },
     "execution_count": 144,
     "metadata": {},
     "output_type": "execute_result"
    }
   ],
   "source": [
    "#Our target variable is full of strings, so just like with the iris dataset we will have to convert these to numerical values.\n",
    "le = preprocessing.LabelEncoder()\n",
    "y = le.fit_transform(y)\n",
    "y"
   ]
  },
  {
   "cell_type": "code",
   "execution_count": 153,
   "metadata": {},
   "outputs": [],
   "source": [
    "#So each of the values 0-10 represents a different region.\n",
    "#Time to split the data as per usual.\n",
    "X_train, X_test, y_train,  y_test = train_test_split(X, y, test_size = 0.2)"
   ]
  },
  {
   "cell_type": "code",
   "execution_count": 154,
   "metadata": {},
   "outputs": [],
   "source": [
    "#Importing and fitting the model.\n",
    "clf = tree.DecisionTreeClassifier()\n",
    "clf = clf.fit(X_train,y_train)"
   ]
  },
  {
   "cell_type": "code",
   "execution_count": 155,
   "metadata": {},
   "outputs": [
    {
     "data": {
      "text/plain": [
       "array([10,  9,  5,  2, 10,  4,  4,  9,  9,  9,  9,  9,  0,  9, 10,  4,  4,\n",
       "       10,  9,  0, 10,  0, 10,  4,  4,  9,  4,  0,  4, 10,  2,  0,  9,  3,\n",
       "        3,  9])"
      ]
     },
     "execution_count": 155,
     "metadata": {},
     "output_type": "execute_result"
    }
   ],
   "source": [
    "#Lets take a look at our predictions.\n",
    "y_pred = clf.predict(X_test)\n",
    "y_pred"
   ]
  },
  {
   "cell_type": "code",
   "execution_count": 156,
   "metadata": {},
   "outputs": [
    {
     "data": {
      "text/plain": [
       "0.5277777777777778"
      ]
     },
     "execution_count": 156,
     "metadata": {},
     "output_type": "execute_result"
    }
   ],
   "source": [
    "#Accuracy:\n",
    "accuracy = accuracy_score(y_pred, y_test)\n",
    "accuracy"
   ]
  },
  {
   "cell_type": "code",
   "execution_count": null,
   "metadata": {},
   "outputs": [],
   "source": [
    "#This is not great, but not totally useless cosidering there are 11 different classes, lets try another classifier."
   ]
  },
  {
   "cell_type": "code",
   "execution_count": 85,
   "metadata": {},
   "outputs": [
    {
     "data": {
      "text/plain": [
       "KNeighborsClassifier(algorithm='auto', leaf_size=30, metric='minkowski',\n",
       "                     metric_params=None, n_jobs=None, n_neighbors=1, p=2,\n",
       "                     weights='uniform')"
      ]
     },
     "execution_count": 85,
     "metadata": {},
     "output_type": "execute_result"
    }
   ],
   "source": [
    "from sklearn.neighbors import KNeighborsClassifier\n",
    "\n",
    "#For simplicity we will start with K=1.\n",
    "knn_1 = KNeighborsClassifier(n_neighbors = 1)\n",
    "knn_1.fit(X_train, y_train)"
   ]
  },
  {
   "cell_type": "code",
   "execution_count": 86,
   "metadata": {},
   "outputs": [
    {
     "data": {
      "text/plain": [
       "array([ 0,  6,  4,  9,  5,  5,  4,  4,  0,  4,  2,  0,  6, 10,  9,  9,  0,\n",
       "        9,  0,  9,  8, 10,  8,  9,  0,  6,  9,  9,  9,  0,  0,  4,  0,  9,\n",
       "        6,  9])"
      ]
     },
     "execution_count": 86,
     "metadata": {},
     "output_type": "execute_result"
    }
   ],
   "source": [
    "y_pred_knn_1 = knn_1.predict(X_test)\n",
    "y_pred_knn_1"
   ]
  },
  {
   "cell_type": "code",
   "execution_count": 87,
   "metadata": {},
   "outputs": [
    {
     "data": {
      "text/plain": [
       "0.3055555555555556"
      ]
     },
     "execution_count": 87,
     "metadata": {},
     "output_type": "execute_result"
    }
   ],
   "source": [
    "accuracy = accuracy_score(y_pred_knn_1, y_test)\n",
    "accuracy"
   ]
  },
  {
   "cell_type": "code",
   "execution_count": 88,
   "metadata": {},
   "outputs": [
    {
     "data": {
      "text/plain": [
       "0.2222222222222222"
      ]
     },
     "execution_count": 88,
     "metadata": {},
     "output_type": "execute_result"
    }
   ],
   "source": [
    "#lets try k = 5 now.\n",
    "knn_5 = KNeighborsClassifier(n_neighbors = 5)\n",
    "knn_5.fit(X_train, y_train)\n",
    "\n",
    "y_pred_knn_5 = knn_5.predict(X_test)\n",
    "y_pred_knn_5\n",
    "\n",
    "accuracy = accuracy_score(y_pred_knn_5, y_test)\n",
    "accuracy"
   ]
  },
  {
   "cell_type": "code",
   "execution_count": 90,
   "metadata": {},
   "outputs": [
    {
     "data": {
      "text/plain": [
       "0.3055555555555556"
      ]
     },
     "execution_count": 90,
     "metadata": {},
     "output_type": "execute_result"
    }
   ],
   "source": [
    "#Its getting worse, try k=10 just to confirm.\n",
    "knn_10 = KNeighborsClassifier(n_neighbors = 10)\n",
    "knn_10.fit(X_train, y_train)\n",
    "\n",
    "y_pred_knn_10 = knn_10.predict(X_test)\n",
    "y_pred_knn_10\n",
    "\n",
    "accuracy = accuracy_score(y_pred_knn_10, y_test)\n",
    "accuracy"
   ]
  },
  {
   "cell_type": "code",
   "execution_count": 104,
   "metadata": {},
   "outputs": [
    {
     "data": {
      "text/html": [
       "<div>\n",
       "<style scoped>\n",
       "    .dataframe tbody tr th:only-of-type {\n",
       "        vertical-align: middle;\n",
       "    }\n",
       "\n",
       "    .dataframe tbody tr th {\n",
       "        vertical-align: top;\n",
       "    }\n",
       "\n",
       "    .dataframe thead th {\n",
       "        text-align: right;\n",
       "    }\n",
       "</style>\n",
       "<table border=\"1\" class=\"dataframe\">\n",
       "  <thead>\n",
       "    <tr style=\"text-align: right;\">\n",
       "      <th></th>\n",
       "      <th>Region</th>\n",
       "    </tr>\n",
       "  </thead>\n",
       "  <tbody>\n",
       "  </tbody>\n",
       "</table>\n",
       "</div>"
      ],
      "text/plain": [
       "Empty DataFrame\n",
       "Columns: [Region]\n",
       "Index: []"
      ]
     },
     "execution_count": 104,
     "metadata": {},
     "output_type": "execute_result"
    }
   ],
   "source": [
    "#KNN is clearly worse, try another type of classifier."
   ]
  },
  {
   "cell_type": "code",
   "execution_count": null,
   "metadata": {},
   "outputs": [],
   "source": [
    "for i in range(len(data)):\n",
    "    if y[i]"
   ]
  },
  {
   "cell_type": "code",
   "execution_count": 102,
   "metadata": {},
   "outputs": [
    {
     "data": {
      "text/plain": [
       "pandas.core.frame.DataFrame"
      ]
     },
     "execution_count": 102,
     "metadata": {},
     "output_type": "execute_result"
    }
   ],
   "source": [
    "type(y)"
   ]
  },
  {
   "cell_type": "code",
   "execution_count": 107,
   "metadata": {},
   "outputs": [
    {
     "data": {
      "text/plain": [
       "0"
      ]
     },
     "execution_count": 107,
     "metadata": {},
     "output_type": "execute_result"
    }
   ],
   "source": [
    "y[0]"
   ]
  },
  {
   "cell_type": "code",
   "execution_count": null,
   "metadata": {},
   "outputs": [],
   "source": []
  }
 ],
 "metadata": {
  "kernelspec": {
   "display_name": "Python 3",
   "language": "python",
   "name": "python3"
  },
  "language_info": {
   "codemirror_mode": {
    "name": "ipython",
    "version": 3
   },
   "file_extension": ".py",
   "mimetype": "text/x-python",
   "name": "python",
   "nbconvert_exporter": "python",
   "pygments_lexer": "ipython3",
   "version": "3.7.4"
  }
 },
 "nbformat": 4,
 "nbformat_minor": 2
}
