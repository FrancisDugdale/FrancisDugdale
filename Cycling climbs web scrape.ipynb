{
 "cells": [
  {
   "cell_type": "code",
   "execution_count": 1,
   "metadata": {},
   "outputs": [],
   "source": [
    "import pandas as pd\n",
    "import requests\n",
    "from bs4 import BeautifulSoup\n",
    "import re\n"
   ]
  },
  {
   "cell_type": "code",
   "execution_count": 2,
   "metadata": {},
   "outputs": [
    {
     "data": {
      "text/html": [
       "<div>\n",
       "<style scoped>\n",
       "    .dataframe tbody tr th:only-of-type {\n",
       "        vertical-align: middle;\n",
       "    }\n",
       "\n",
       "    .dataframe tbody tr th {\n",
       "        vertical-align: top;\n",
       "    }\n",
       "\n",
       "    .dataframe thead th {\n",
       "        text-align: right;\n",
       "    }\n",
       "</style>\n",
       "<table border=\"1\" class=\"dataframe\">\n",
       "  <thead>\n",
       "    <tr style=\"text-align: right;\">\n",
       "      <th></th>\n",
       "      <th>0</th>\n",
       "      <th>1</th>\n",
       "      <th>2</th>\n",
       "      <th>3</th>\n",
       "      <th>4</th>\n",
       "    </tr>\n",
       "  </thead>\n",
       "  <tbody>\n",
       "    <tr>\n",
       "      <td>0</td>\n",
       "      <td>4.2</td>\n",
       "      <td>32.9</td>\n",
       "      <td>1399.0</td>\n",
       "      <td>2770.0</td>\n",
       "      <td>1371.0</td>\n",
       "    </tr>\n",
       "  </tbody>\n",
       "</table>\n",
       "</div>"
      ],
      "text/plain": [
       "     0     1       2       3       4\n",
       "0  4.2  32.9  1399.0  2770.0  1371.0"
      ]
     },
     "execution_count": 2,
     "metadata": {},
     "output_type": "execute_result"
    }
   ],
   "source": [
    "url = 'https://www.climbbybike.com/climb.asp?qryMountainID=15&col=Col-de-lIseran'\n",
    "page = requests.get(url)\n",
    "soup = BeautifulSoup(page.text,'html.parser')\n",
    "stats = soup.find('div',{'class' : 'floatmedium' })\n",
    "tab = stats.find_all('p',{'class' : 'floatmediumboxbasicdata' })\n",
    "data = []\n",
    "for row in tab:\n",
    "    data.append(row.text)\n",
    "data_1 = pd.DataFrame(data)\n",
    "\n",
    "data = []\n",
    "for i in list(range(0,5)):\n",
    "    data_2 = data_1.loc[i][0]\n",
    "    s =  re.findall('\\d+', data_2 )\n",
    "    if len(s) > 1:\n",
    "        t = int(s[0]) + int(s[1])/10\n",
    "    else:\n",
    "         t = int(s[0])\n",
    "    data.append(t)\n",
    "row_1 = pd.DataFrame(data).T\n",
    "row_1"
   ]
  },
  {
   "cell_type": "code",
   "execution_count": 3,
   "metadata": {},
   "outputs": [
    {
     "data": {
      "text/html": [
       "<div>\n",
       "<style scoped>\n",
       "    .dataframe tbody tr th:only-of-type {\n",
       "        vertical-align: middle;\n",
       "    }\n",
       "\n",
       "    .dataframe tbody tr th {\n",
       "        vertical-align: top;\n",
       "    }\n",
       "\n",
       "    .dataframe thead th {\n",
       "        text-align: right;\n",
       "    }\n",
       "</style>\n",
       "<table border=\"1\" class=\"dataframe\">\n",
       "  <thead>\n",
       "    <tr style=\"text-align: right;\">\n",
       "      <th></th>\n",
       "      <th>0</th>\n",
       "      <th>1</th>\n",
       "      <th>2</th>\n",
       "      <th>3</th>\n",
       "      <th>4</th>\n",
       "    </tr>\n",
       "  </thead>\n",
       "  <tbody>\n",
       "    <tr>\n",
       "      <td>0</td>\n",
       "      <td>5.0</td>\n",
       "      <td>12.8</td>\n",
       "      <td>847.0</td>\n",
       "      <td>1489.0</td>\n",
       "      <td>642.0</td>\n",
       "    </tr>\n",
       "  </tbody>\n",
       "</table>\n",
       "</div>"
      ],
      "text/plain": [
       "     0     1      2       3      4\n",
       "0  5.0  12.8  847.0  1489.0  642.0"
      ]
     },
     "execution_count": 3,
     "metadata": {},
     "output_type": "execute_result"
    }
   ],
   "source": [
    "url = 'https://www.climbbybike.com/climb.asp?qryMountainID=6035&col=Col-de-lAspin'\n",
    "page = requests.get(url)\n",
    "soup = BeautifulSoup(page.text,'html.parser')\n",
    "stats = soup.find('div',{'class' : 'floatmedium' })\n",
    "tab = stats.find_all('p',{'class' : 'floatmediumboxbasicdata' })\n",
    "\n",
    "data = []\n",
    "for row in tab:\n",
    "    data.append(row.text)\n",
    "data_1 = pd.DataFrame(data)\n",
    "\n",
    "data = []\n",
    "for i in list(range(0,5)):\n",
    "    data_2 = data_1.loc[i][0]\n",
    "    s =  re.findall('\\d+', data_2 )\n",
    "    if len(s) > 1:\n",
    "        t = int(s[0]) + int(s[1])/10\n",
    "    else:\n",
    "         t = int(s[0])\n",
    "    data.append(t)\n",
    "row_1 = pd.DataFrame(data).T\n",
    "row_1\n"
   ]
  },
  {
   "cell_type": "code",
   "execution_count": 4,
   "metadata": {},
   "outputs": [],
   "source": [
    "def res(url):\n",
    "    page = requests.get(url)\n",
    "    soup = BeautifulSoup(page.text,'html.parser')\n",
    "    stats = soup.find('div',{'class' : 'floatmedium' })\n",
    "    tab = stats.find_all('p',{'class' : 'floatmediumboxbasicdata' })\n",
    "\n",
    "    data = []\n",
    "    for row in tab:\n",
    "        data.append(row.text)\n",
    "    data_1 = pd.DataFrame(data)\n",
    "\n",
    "    data = []\n",
    "    for i in list(range(0,5)):\n",
    "        data_2 = data_1.loc[i][0]\n",
    "        s =  re.findall('\\d+', data_2 )\n",
    "        if len(s) > 1:\n",
    "            t = int(s[0]) + int(s[1])/10\n",
    "        else:\n",
    "             t = int(s[0])\n",
    "        data.append(t)\n",
    "    row_1 = pd.DataFrame(data).T\n",
    "    return row_1\n",
    "\n"
   ]
  },
  {
   "cell_type": "code",
   "execution_count": 5,
   "metadata": {},
   "outputs": [
    {
     "data": {
      "text/html": [
       "<div>\n",
       "<style scoped>\n",
       "    .dataframe tbody tr th:only-of-type {\n",
       "        vertical-align: middle;\n",
       "    }\n",
       "\n",
       "    .dataframe tbody tr th {\n",
       "        vertical-align: top;\n",
       "    }\n",
       "\n",
       "    .dataframe thead th {\n",
       "        text-align: right;\n",
       "    }\n",
       "</style>\n",
       "<table border=\"1\" class=\"dataframe\">\n",
       "  <thead>\n",
       "    <tr style=\"text-align: right;\">\n",
       "      <th></th>\n",
       "      <th>0</th>\n",
       "      <th>1</th>\n",
       "      <th>2</th>\n",
       "      <th>3</th>\n",
       "      <th>4</th>\n",
       "    </tr>\n",
       "  </thead>\n",
       "  <tbody>\n",
       "    <tr>\n",
       "      <td>0</td>\n",
       "      <td>5.0</td>\n",
       "      <td>12.8</td>\n",
       "      <td>847.0</td>\n",
       "      <td>1489.0</td>\n",
       "      <td>642.0</td>\n",
       "    </tr>\n",
       "  </tbody>\n",
       "</table>\n",
       "</div>"
      ],
      "text/plain": [
       "     0     1      2       3      4\n",
       "0  5.0  12.8  847.0  1489.0  642.0"
      ]
     },
     "execution_count": 5,
     "metadata": {},
     "output_type": "execute_result"
    }
   ],
   "source": [
    "res('https://www.climbbybike.com/climb.asp?qryMountainID=6035&col=Col-de-lAspin')"
   ]
  },
  {
   "cell_type": "code",
   "execution_count": 32,
   "metadata": {},
   "outputs": [
    {
     "data": {
      "text/plain": [
       "['climb.asp?qryMountainID=15&col=Col-de-lIseran',\n",
       " 'climb.asp?qryMountainID=14&col=Col-de-lIseran',\n",
       " 'climb.asp?qryMountainID=6035&col=Col-de-lAspin',\n",
       " 'climb.asp?qryMountainID=6161&col=Col-de-la-Luzette',\n",
       " 'climb.asp?qryMountainID=6012&col=Col-de-Jau',\n",
       " 'climb.asp?qryMountainID=6061&col=Col-de-la-Bonette',\n",
       " 'climb.asp?qryMountainID=5892&col=Col-de-Beyrède',\n",
       " 'climb.asp?qryMountainID=8343&col=Canigou-chalet-des-Cortalets',\n",
       " 'climb.asp?qryMountainID=8691&col=Cadillac-Mountain',\n",
       " 'climb.asp?qryMountainID=5794&col=Cirque-de-Troumouse',\n",
       " 'climb.asp?qryMountainID=16550&col=Alto-de-Letras',\n",
       " 'climb.asp?qryMountainID=5673&col=Artzamendi',\n",
       " 'climb.asp?qryMountainID=17&col=Angliru---Gamonal',\n",
       " 'climb.asp?qryMountainID=8996&col=Bushcombe-Lane',\n",
       " 'climb.asp?qryMountainID=6300&col=Col-de-Notre-Dame-des-Abeilles',\n",
       " 'climb.asp?qryMountainID=6306&col=Col-de-Pailhères',\n",
       " 'climb.asp?qryMountainID=6339&col=Col-de-Pontis',\n",
       " 'climb.asp?qryMountainID=6415&col=Col-de-Sarenne',\n",
       " 'climb.asp?qryMountainID=1847&col=Col-du-Grand-Saint-Bernard',\n",
       " 'climb.asp?qryMountainID=6628&col=Col-du-Granier']"
      ]
     },
     "execution_count": 32,
     "metadata": {},
     "output_type": "execute_result"
    }
   ],
   "source": [
    "page = requests.get('https://www.climbbybike.com/toprated_climbs.asp')\n",
    "soup = BeautifulSoup(page.text,'lxml')\n",
    "stats = soup.find('div',{'class' : 'floatwide' })\n",
    "tab = stats.findAll('a', href = re.compile('(climb.asp)+([A-Za-z0-9_:()?])'))\n",
    "#href=\"climb.asp?qryMountainID=15&col=Col-de-lIseran\"\n",
    "links = []\n",
    "for link in tab:\n",
    "    links.append(link['href'])\n",
    "links"
   ]
  },
  {
   "cell_type": "code",
   "execution_count": 33,
   "metadata": {},
   "outputs": [
    {
     "data": {
      "text/plain": [
       "'https://www.climbbybike.com/climb.asp?qryMountainID=15&col=Col-de-lIseran'"
      ]
     },
     "execution_count": 33,
     "metadata": {},
     "output_type": "execute_result"
    }
   ],
   "source": [
    "'https://www.climbbybike.com/' + links[0]"
   ]
  },
  {
   "cell_type": "code",
   "execution_count": 34,
   "metadata": {},
   "outputs": [
    {
     "name": "stdout",
     "output_type": "stream",
     "text": [
      "     0     1       2       3       4\n",
      "0  4.2  32.9  1399.0  2770.0  1371.0\n",
      "     0     1       2       3      4\n",
      "0  7.3  17.3  1787.0  2764.0  977.0\n",
      "     0     1      2       3      4\n",
      "0  5.0  12.8  847.0  1489.0  642.0\n",
      "     0     1      2       3       4\n",
      "0  6.6  17.0  235.0  1350.0  1115.0\n",
      "     0     1      2       3      4\n",
      "0  6.7  13.4  610.0  1506.0  896.0\n",
      "     0     1       2       3       4\n",
      "0  6.4  25.8  1150.0  2802.0  1652.0\n",
      "     0     1      2       3      4\n",
      "0  4.5  16.9  660.0  1417.0  757.0\n",
      "     0     1      2       3       4\n",
      "0  6.8  25.0  345.0  2050.0  1705.0\n",
      "     0     1      2      3      4\n",
      "0  5.4  10.6  156.0  460.0  304.0\n",
      "   0   1    2     3     4\n",
      "0  5  28  710  2100  1390\n",
      "     0     1      2       3       4\n",
      "0  4.0  78.9  468.0  3688.0  3220.0\n",
      "     0     1     2      3      4\n",
      "0  6.7  12.8  60.0  915.0  855.0\n"
     ]
    },
    {
     "ename": "AttributeError",
     "evalue": "'NoneType' object has no attribute 'find_all'",
     "output_type": "error",
     "traceback": [
      "\u001b[0;31m---------------------------------------------------------------------------\u001b[0m",
      "\u001b[0;31mAttributeError\u001b[0m                            Traceback (most recent call last)",
      "\u001b[0;32m<ipython-input-34-84638f9acb7a>\u001b[0m in \u001b[0;36m<module>\u001b[0;34m\u001b[0m\n\u001b[1;32m      1\u001b[0m \u001b[0;32mfor\u001b[0m \u001b[0mlink\u001b[0m \u001b[0;32min\u001b[0m \u001b[0mlinks\u001b[0m\u001b[0;34m:\u001b[0m\u001b[0;34m\u001b[0m\u001b[0;34m\u001b[0m\u001b[0m\n\u001b[0;32m----> 2\u001b[0;31m     \u001b[0mprint\u001b[0m\u001b[0;34m(\u001b[0m\u001b[0mres\u001b[0m\u001b[0;34m(\u001b[0m\u001b[0;34m'https://www.climbbybike.com/'\u001b[0m \u001b[0;34m+\u001b[0m \u001b[0mlink\u001b[0m\u001b[0;34m)\u001b[0m\u001b[0;34m)\u001b[0m\u001b[0;34m\u001b[0m\u001b[0;34m\u001b[0m\u001b[0m\n\u001b[0m",
      "\u001b[0;32m<ipython-input-4-6a9cf7787efc>\u001b[0m in \u001b[0;36mres\u001b[0;34m(url)\u001b[0m\n\u001b[1;32m      3\u001b[0m     \u001b[0msoup\u001b[0m \u001b[0;34m=\u001b[0m \u001b[0mBeautifulSoup\u001b[0m\u001b[0;34m(\u001b[0m\u001b[0mpage\u001b[0m\u001b[0;34m.\u001b[0m\u001b[0mtext\u001b[0m\u001b[0;34m,\u001b[0m\u001b[0;34m'html.parser'\u001b[0m\u001b[0;34m)\u001b[0m\u001b[0;34m\u001b[0m\u001b[0;34m\u001b[0m\u001b[0m\n\u001b[1;32m      4\u001b[0m     \u001b[0mstats\u001b[0m \u001b[0;34m=\u001b[0m \u001b[0msoup\u001b[0m\u001b[0;34m.\u001b[0m\u001b[0mfind\u001b[0m\u001b[0;34m(\u001b[0m\u001b[0;34m'div'\u001b[0m\u001b[0;34m,\u001b[0m\u001b[0;34m{\u001b[0m\u001b[0;34m'class'\u001b[0m \u001b[0;34m:\u001b[0m \u001b[0;34m'floatmedium'\u001b[0m \u001b[0;34m}\u001b[0m\u001b[0;34m)\u001b[0m\u001b[0;34m\u001b[0m\u001b[0;34m\u001b[0m\u001b[0m\n\u001b[0;32m----> 5\u001b[0;31m     \u001b[0mtab\u001b[0m \u001b[0;34m=\u001b[0m \u001b[0mstats\u001b[0m\u001b[0;34m.\u001b[0m\u001b[0mfind_all\u001b[0m\u001b[0;34m(\u001b[0m\u001b[0;34m'p'\u001b[0m\u001b[0;34m,\u001b[0m\u001b[0;34m{\u001b[0m\u001b[0;34m'class'\u001b[0m \u001b[0;34m:\u001b[0m \u001b[0;34m'floatmediumboxbasicdata'\u001b[0m \u001b[0;34m}\u001b[0m\u001b[0;34m)\u001b[0m\u001b[0;34m\u001b[0m\u001b[0;34m\u001b[0m\u001b[0m\n\u001b[0m\u001b[1;32m      6\u001b[0m \u001b[0;34m\u001b[0m\u001b[0m\n\u001b[1;32m      7\u001b[0m     \u001b[0mdata\u001b[0m \u001b[0;34m=\u001b[0m \u001b[0;34m[\u001b[0m\u001b[0;34m]\u001b[0m\u001b[0;34m\u001b[0m\u001b[0;34m\u001b[0m\u001b[0m\n",
      "\u001b[0;31mAttributeError\u001b[0m: 'NoneType' object has no attribute 'find_all'"
     ]
    }
   ],
   "source": [
    "for link in links:\n",
    "    print(res('https://www.climbbybike.com/' + link))"
   ]
  },
  {
   "cell_type": "code",
   "execution_count": 35,
   "metadata": {},
   "outputs": [],
   "source": [
    "del(links[12])\n"
   ]
  },
  {
   "cell_type": "code",
   "execution_count": 36,
   "metadata": {},
   "outputs": [
    {
     "name": "stdout",
     "output_type": "stream",
     "text": [
      "     0     1       2       3       4\n",
      "0  4.2  32.9  1399.0  2770.0  1371.0\n",
      "     0     1       2       3      4\n",
      "0  7.3  17.3  1787.0  2764.0  977.0\n",
      "     0     1      2       3      4\n",
      "0  5.0  12.8  847.0  1489.0  642.0\n",
      "     0     1      2       3       4\n",
      "0  6.6  17.0  235.0  1350.0  1115.0\n",
      "     0     1      2       3      4\n",
      "0  6.7  13.4  610.0  1506.0  896.0\n",
      "     0     1       2       3       4\n",
      "0  6.4  25.8  1150.0  2802.0  1652.0\n",
      "     0     1      2       3      4\n",
      "0  4.5  16.9  660.0  1417.0  757.0\n",
      "     0     1      2       3       4\n",
      "0  6.8  25.0  345.0  2050.0  1705.0\n",
      "     0     1      2      3      4\n",
      "0  5.4  10.6  156.0  460.0  304.0\n",
      "   0   1    2     3     4\n",
      "0  5  28  710  2100  1390\n",
      "     0     1      2       3       4\n",
      "0  4.0  78.9  468.0  3688.0  3220.0\n",
      "     0     1     2      3      4\n",
      "0  6.7  12.8  60.0  915.0  855.0\n",
      "     0     1     2      3      4\n",
      "0  8.0  10.5  75.0  232.0  157.0\n",
      "     0     1      2      3      4\n",
      "0  2.7  18.5  680.0  994.0  320.0\n",
      "     0     1       2       3      4\n",
      "0  8.2  10.6  1130.0  2001.0  871.0\n",
      "      0    1      2       3      4\n",
      "0  10.1  5.0  795.0  1301.0  506.0\n",
      "     0     1       2       3      4\n",
      "0  7.5  19.6  1045.0  1999.0  954.0\n",
      "     0     1      2       3       4\n",
      "0  5.9  32.5  591.0  2469.0  1878.0\n",
      "     0     1      2       3      4\n",
      "0  8.1  10.0  290.0  1134.0  844.0\n"
     ]
    }
   ],
   "source": [
    "for link in links:\n",
    "    print(res('https://www.climbbybike.com/' + link))"
   ]
  },
  {
   "cell_type": "code",
   "execution_count": null,
   "metadata": {},
   "outputs": [],
   "source": [
    "#q = list(range(2,6))\n",
    "#del(q[2])\n",
    "#for i in q:\n",
    "#    page = requests.get('https://www.climbbybike.com/toprated_climbs.asp?Page=' + 'i' + '&Region=&Mountainname=Col-du-Granier&CatID=')\n",
    "#    soup = BeautifulSoup(page.text,'lxml')\n",
    "#    stats = soup.find('div',{'class' : 'floatwide' })\n",
    "#    tab = stats.findAll('a', href = re.compile('(climb.asp)+([A-Za-z0-9_:()?])'))\n",
    "#    for link in tab:\n",
    "#        links.append(link['href'])"
   ]
  },
  {
   "cell_type": "code",
   "execution_count": 12,
   "metadata": {},
   "outputs": [
    {
     "data": {
      "text/plain": [
       "19"
      ]
     },
     "execution_count": 12,
     "metadata": {},
     "output_type": "execute_result"
    }
   ],
   "source": [
    "len(links)"
   ]
  },
  {
   "cell_type": "code",
   "execution_count": 94,
   "metadata": {},
   "outputs": [
    {
     "name": "stdout",
     "output_type": "stream",
     "text": [
      "     0     1       2       3       4\n",
      "0  4.2  32.9  1399.0  2770.0  1371.0\n",
      "0  7.3  17.3  1787.0  2764.0   977.0\n",
      "0  5.0  12.8   847.0  1489.0   642.0\n",
      "0  6.6  17.0   235.0  1350.0  1115.0\n",
      "0  6.7  13.4   610.0  1506.0   896.0\n"
     ]
    }
   ],
   "source": [
    "climbs = pd.DataFrame()\n",
    "for i in list(range(len(links))):\n",
    "    climbs = climbs.append(res('https://www.climbbybike.com/' + links[i]))\n",
    "print(climbs.head())"
   ]
  },
  {
   "cell_type": "code",
   "execution_count": 95,
   "metadata": {},
   "outputs": [
    {
     "name": "stdout",
     "output_type": "stream",
     "text": [
      "   index    0     1       2       3       4\n",
      "0      0  4.2  32.9  1399.0  2770.0  1371.0\n",
      "1      0  7.3  17.3  1787.0  2764.0   977.0\n",
      "2      0  5.0  12.8   847.0  1489.0   642.0\n",
      "3      0  6.6  17.0   235.0  1350.0  1115.0\n",
      "4      0  6.7  13.4   610.0  1506.0   896.0\n"
     ]
    }
   ],
   "source": [
    "climbs.reset_index(inplace=True)\n",
    "print(climbs.head())"
   ]
  },
  {
   "cell_type": "code",
   "execution_count": 96,
   "metadata": {},
   "outputs": [],
   "source": [
    "climbs.columns = ['dummy_index','Avg_Gradient', 'Length', 'Alt_Base', 'Alt_Summit', 'Height_Gain']\n"
   ]
  },
  {
   "cell_type": "code",
   "execution_count": 97,
   "metadata": {},
   "outputs": [
    {
     "name": "stdout",
     "output_type": "stream",
     "text": [
      "   dummy_index  Avg_Gradient  Length  Alt_Base  Alt_Summit  Height_Gain\n",
      "0            0           4.2    32.9    1399.0      2770.0       1371.0\n",
      "1            0           7.3    17.3    1787.0      2764.0        977.0\n",
      "2            0           5.0    12.8     847.0      1489.0        642.0\n",
      "3            0           6.6    17.0     235.0      1350.0       1115.0\n",
      "4            0           6.7    13.4     610.0      1506.0        896.0\n"
     ]
    }
   ],
   "source": [
    "print(climbs.head())\n",
    "     "
   ]
  },
  {
   "cell_type": "code",
   "execution_count": 100,
   "metadata": {},
   "outputs": [],
   "source": [
    "climbs = climbs.drop(['dummy_index'],1)"
   ]
  },
  {
   "cell_type": "code",
   "execution_count": 101,
   "metadata": {},
   "outputs": [
    {
     "data": {
      "text/plain": [
       "Avg_Gradient       7.3\n",
       "Length            17.3\n",
       "Alt_Base        1787.0\n",
       "Alt_Summit      2764.0\n",
       "Height_Gain      977.0\n",
       "Name: 1, dtype: float64"
      ]
     },
     "execution_count": 101,
     "metadata": {},
     "output_type": "execute_result"
    }
   ],
   "source": [
    "climbs.loc[1]"
   ]
  },
  {
   "cell_type": "code",
   "execution_count": 102,
   "metadata": {},
   "outputs": [
    {
     "data": {
      "text/html": [
       "<div>\n",
       "<style scoped>\n",
       "    .dataframe tbody tr th:only-of-type {\n",
       "        vertical-align: middle;\n",
       "    }\n",
       "\n",
       "    .dataframe tbody tr th {\n",
       "        vertical-align: top;\n",
       "    }\n",
       "\n",
       "    .dataframe thead th {\n",
       "        text-align: right;\n",
       "    }\n",
       "</style>\n",
       "<table border=\"1\" class=\"dataframe\">\n",
       "  <thead>\n",
       "    <tr style=\"text-align: right;\">\n",
       "      <th></th>\n",
       "      <th>Avg_Gradient</th>\n",
       "      <th>Length</th>\n",
       "      <th>Alt_Base</th>\n",
       "      <th>Alt_Summit</th>\n",
       "      <th>Height_Gain</th>\n",
       "    </tr>\n",
       "  </thead>\n",
       "  <tbody>\n",
       "    <tr>\n",
       "      <td>0</td>\n",
       "      <td>4.2</td>\n",
       "      <td>32.9</td>\n",
       "      <td>1399.0</td>\n",
       "      <td>2770.0</td>\n",
       "      <td>1371.0</td>\n",
       "    </tr>\n",
       "    <tr>\n",
       "      <td>1</td>\n",
       "      <td>7.3</td>\n",
       "      <td>17.3</td>\n",
       "      <td>1787.0</td>\n",
       "      <td>2764.0</td>\n",
       "      <td>977.0</td>\n",
       "    </tr>\n",
       "    <tr>\n",
       "      <td>2</td>\n",
       "      <td>5.0</td>\n",
       "      <td>12.8</td>\n",
       "      <td>847.0</td>\n",
       "      <td>1489.0</td>\n",
       "      <td>642.0</td>\n",
       "    </tr>\n",
       "    <tr>\n",
       "      <td>3</td>\n",
       "      <td>6.6</td>\n",
       "      <td>17.0</td>\n",
       "      <td>235.0</td>\n",
       "      <td>1350.0</td>\n",
       "      <td>1115.0</td>\n",
       "    </tr>\n",
       "    <tr>\n",
       "      <td>4</td>\n",
       "      <td>6.7</td>\n",
       "      <td>13.4</td>\n",
       "      <td>610.0</td>\n",
       "      <td>1506.0</td>\n",
       "      <td>896.0</td>\n",
       "    </tr>\n",
       "  </tbody>\n",
       "</table>\n",
       "</div>"
      ],
      "text/plain": [
       "   Avg_Gradient  Length  Alt_Base  Alt_Summit  Height_Gain\n",
       "0           4.2    32.9    1399.0      2770.0       1371.0\n",
       "1           7.3    17.3    1787.0      2764.0        977.0\n",
       "2           5.0    12.8     847.0      1489.0        642.0\n",
       "3           6.6    17.0     235.0      1350.0       1115.0\n",
       "4           6.7    13.4     610.0      1506.0        896.0"
      ]
     },
     "execution_count": 102,
     "metadata": {},
     "output_type": "execute_result"
    }
   ],
   "source": [
    "climbs.head()"
   ]
  },
  {
   "cell_type": "code",
   "execution_count": 103,
   "metadata": {},
   "outputs": [
    {
     "data": {
      "text/plain": [
       "'climb.asp?qryMountainID=15&col=Col-de-lIseran'"
      ]
     },
     "execution_count": 103,
     "metadata": {},
     "output_type": "execute_result"
    }
   ],
   "source": [
    "links[0]"
   ]
  },
  {
   "cell_type": "code",
   "execution_count": null,
   "metadata": {},
   "outputs": [],
   "source": []
  }
 ],
 "metadata": {
  "kernelspec": {
   "display_name": "Python 3",
   "language": "python",
   "name": "python3"
  },
  "language_info": {
   "codemirror_mode": {
    "name": "ipython",
    "version": 3
   },
   "file_extension": ".py",
   "mimetype": "text/x-python",
   "name": "python",
   "nbconvert_exporter": "python",
   "pygments_lexer": "ipython3",
   "version": "3.7.4"
  }
 },
 "nbformat": 4,
 "nbformat_minor": 2
}
